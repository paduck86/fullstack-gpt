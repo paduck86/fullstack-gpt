{
 "cells": [
  {
   "cell_type": "code",
   "execution_count": 22,
   "metadata": {},
   "outputs": [],
   "source": [
    "from langchain.chat_models import ChatOpenAI\n",
    "from langchain.document_loaders import UnstructuredFileLoader\n",
    "from langchain.text_splitter import CharacterTextSplitter\n",
    "from langchain.embeddings import OpenAIEmbeddings, CacheBackedEmbeddings\n",
    "from langchain.vectorstores import Chroma\n",
    "from langchain.storage import LocalFileStore\n",
    "\n",
    "cache_dir = LocalFileStore(\"../.cahce/\")\n",
    "\n",
    "splitter = CharacterTextSplitter.from_tiktoken_encoder(\n",
    "    separator=\"\\n\",\n",
    "    chunk_size=600,\n",
    "    chunk_overlap=100,\n",
    ")\n",
    "\n",
    "loader = UnstructuredFileLoader(\"../files/chapter_one.pdf\")\n",
    "\n",
    "docs = loader.load_and_split(text_splitter=splitter)\n",
    "\n",
    "embeddings = OpenAIEmbeddings()\n",
    "cached_embeddings = CacheBackedEmbeddings.from_bytes_store(\n",
    "    embeddings, cache_dir\n",
    ")\n",
    "\n",
    "vectorstore = Chroma.from_documents(docs, cached_embeddings)\n"
   ]
  },
  {
   "cell_type": "code",
   "execution_count": 23,
   "metadata": {},
   "outputs": [
    {
     "data": {
      "text/plain": [
       "[Document(page_content=\"The Ministry of Love was the really frightening one. There were no windows in it at all. Winston had never\\nbeen inside the Ministry of Love, nor within half a kilometre of it. It was a place impossible to enter except\\non official business, and then only by penetrating through a maze of barbed-wire entanglements, steel\\ndoors, and hidden machine-gun nests. Even the streets leading up to its outer barriers were roamed by\\ngorilla-faced guards in black uniforms, armed with jointed truncheons.\\nWinston turned round abruptly. He had set his features into the expression of quiet optimism which it was\\nadvisable to wear when facing the telescreen. He crossed the room into the tiny kitchen. By leaving the\\nMinistry at this time of day he had sacrificed his lunch in the canteen, and he was aware that there was no\\nfood in the kitchen except a hunk of dark-coloured bread which had got to be saved for tomorrow's\\nbreakfast. He took down from the shelf a bottle of colourless liquid with a plain white label marked VICTORY\\nGIN. It gave off a sickly, oily smell, as of Chinese ricespirit. Winston poured out nearly a teacupful, nerved\\nhimself for a shock, and gulped it down like a dose of medicine.\\nInstantly his face turned scarlet and the water ran out of his eyes. The stuff was like nitric acid, and\\nmoreover, in swallowing it one had the sensation of being hit on the back of the head with a rubber club.\\n2 / 9\\nchapter_one.md\\n2023-12-11\\nThe next moment, however, the burning in his belly died down and the world began to look more cheerful.\\nHe took a cigarette from a crumpled packet marked VICTORY CIGARETTES and incautiously held it upright,\\nwhereupon the tobacco fell out on to the floor. With the next he was more successful. He went back to the\\nliving-room and sat down at a small table that stood to the left of the telescreen. From the table drawer he\\ntook out a penholder, a bottle of ink, and a thick, quarto-sized blank book with a red back and a marbled\\ncover.\\nFor some reason the telescreen in the living-room was in an unusual position. Instead of being placed, as\\nwas normal, in the end wall, where it could command the whole room, it was in the longer wall, opposite the\\nwindow. To one side of it there was a shallow alcove in which Winston was now sitting, and which, when the\\nflats were built, had probably been intended to hold bookshelves. By sitting in the alcove, and keeping well\", metadata={'source': '../files/chapter_one.pdf'}),\n",
       " Document(page_content=\"The Ministry of Love was the really frightening one. There were no windows in it at all. Winston had never\\nbeen inside the Ministry of Love, nor within half a kilometre of it. It was a place impossible to enter except\\non official business, and then only by penetrating through a maze of barbed-wire entanglements, steel\\ndoors, and hidden machine-gun nests. Even the streets leading up to its outer barriers were roamed by\\ngorilla-faced guards in black uniforms, armed with jointed truncheons.\\nWinston turned round abruptly. He had set his features into the expression of quiet optimism which it was\\nadvisable to wear when facing the telescreen. He crossed the room into the tiny kitchen. By leaving the\\nMinistry at this time of day he had sacrificed his lunch in the canteen, and he was aware that there was no\\nfood in the kitchen except a hunk of dark-coloured bread which had got to be saved for tomorrow's\\nbreakfast. He took down from the shelf a bottle of colourless liquid with a plain white label marked VICTORY\\nGIN. It gave off a sickly, oily smell, as of Chinese ricespirit. Winston poured out nearly a teacupful, nerved\\nhimself for a shock, and gulped it down like a dose of medicine.\\nInstantly his face turned scarlet and the water ran out of his eyes. The stuff was like nitric acid, and\\nmoreover, in swallowing it one had the sensation of being hit on the back of the head with a rubber club.\\n2 / 9\\nchapter_one.md\\n2023-12-11\\nThe next moment, however, the burning in his belly died down and the world began to look more cheerful.\\nHe took a cigarette from a crumpled packet marked VICTORY CIGARETTES and incautiously held it upright,\\nwhereupon the tobacco fell out on to the floor. With the next he was more successful. He went back to the\\nliving-room and sat down at a small table that stood to the left of the telescreen. From the table drawer he\\ntook out a penholder, a bottle of ink, and a thick, quarto-sized blank book with a red back and a marbled\\ncover.\\nFor some reason the telescreen in the living-room was in an unusual position. Instead of being placed, as\\nwas normal, in the end wall, where it could command the whole room, it was in the longer wall, opposite the\\nwindow. To one side of it there was a shallow alcove in which Winston was now sitting, and which, when the\\nflats were built, had probably been intended to hold bookshelves. By sitting in the alcove, and keeping well\", metadata={'source': '../files/chapter_one.pdf'}),\n",
       " Document(page_content=\"The Ministry of Love was the really frightening one. There were no windows in it at all. Winston had never\\nbeen inside the Ministry of Love, nor within half a kilometre of it. It was a place impossible to enter except\\non official business, and then only by penetrating through a maze of barbed-wire entanglements, steel\\ndoors, and hidden machine-gun nests. Even the streets leading up to its outer barriers were roamed by\\ngorilla-faced guards in black uniforms, armed with jointed truncheons.\\nWinston turned round abruptly. He had set his features into the expression of quiet optimism which it was\\nadvisable to wear when facing the telescreen. He crossed the room into the tiny kitchen. By leaving the\\nMinistry at this time of day he had sacrificed his lunch in the canteen, and he was aware that there was no\\nfood in the kitchen except a hunk of dark-coloured bread which had got to be saved for tomorrow's\\nbreakfast. He took down from the shelf a bottle of colourless liquid with a plain white label marked VICTORY\\nGIN. It gave off a sickly, oily smell, as of Chinese ricespirit. Winston poured out nearly a teacupful, nerved\\nhimself for a shock, and gulped it down like a dose of medicine.\\nInstantly his face turned scarlet and the water ran out of his eyes. The stuff was like nitric acid, and\\nmoreover, in swallowing it one had the sensation of being hit on the back of the head with a rubber club.\\n2 / 9\\nchapter_one.md\\n2023-12-11\\nThe next moment, however, the burning in his belly died down and the world began to look more cheerful.\\nHe took a cigarette from a crumpled packet marked VICTORY CIGARETTES and incautiously held it upright,\\nwhereupon the tobacco fell out on to the floor. With the next he was more successful. He went back to the\\nliving-room and sat down at a small table that stood to the left of the telescreen. From the table drawer he\\ntook out a penholder, a bottle of ink, and a thick, quarto-sized blank book with a red back and a marbled\\ncover.\\nFor some reason the telescreen in the living-room was in an unusual position. Instead of being placed, as\\nwas normal, in the end wall, where it could command the whole room, it was in the longer wall, opposite the\\nwindow. To one side of it there was a shallow alcove in which Winston was now sitting, and which, when the\\nflats were built, had probably been intended to hold bookshelves. By sitting in the alcove, and keeping well\", metadata={'source': '../files/chapter_one.pdf'}),\n",
       " Document(page_content=\"The Ministry of Love was the really frightening one. There were no windows in it at all. Winston had never\\nbeen inside the Ministry of Love, nor within half a kilometre of it. It was a place impossible to enter except\\non official business, and then only by penetrating through a maze of barbed-wire entanglements, steel\\ndoors, and hidden machine-gun nests. Even the streets leading up to its outer barriers were roamed by\\ngorilla-faced guards in black uniforms, armed with jointed truncheons.\\nWinston turned round abruptly. He had set his features into the expression of quiet optimism which it was\\nadvisable to wear when facing the telescreen. He crossed the room into the tiny kitchen. By leaving the\\nMinistry at this time of day he had sacrificed his lunch in the canteen, and he was aware that there was no\\nfood in the kitchen except a hunk of dark-coloured bread which had got to be saved for tomorrow's\\nbreakfast. He took down from the shelf a bottle of colourless liquid with a plain white label marked VICTORY\\nGIN. It gave off a sickly, oily smell, as of Chinese ricespirit. Winston poured out nearly a teacupful, nerved\\nhimself for a shock, and gulped it down like a dose of medicine.\\nInstantly his face turned scarlet and the water ran out of his eyes. The stuff was like nitric acid, and\\nmoreover, in swallowing it one had the sensation of being hit on the back of the head with a rubber club.\\n2 / 9\\nchapter_one.md\\n2023-12-11\\nThe next moment, however, the burning in his belly died down and the world began to look more cheerful.\\nHe took a cigarette from a crumpled packet marked VICTORY CIGARETTES and incautiously held it upright,\\nwhereupon the tobacco fell out on to the floor. With the next he was more successful. He went back to the\\nliving-room and sat down at a small table that stood to the left of the telescreen. From the table drawer he\\ntook out a penholder, a bottle of ink, and a thick, quarto-sized blank book with a red back and a marbled\\ncover.\\nFor some reason the telescreen in the living-room was in an unusual position. Instead of being placed, as\\nwas normal, in the end wall, where it could command the whole room, it was in the longer wall, opposite the\\nwindow. To one side of it there was a shallow alcove in which Winston was now sitting, and which, when the\\nflats were built, had probably been intended to hold bookshelves. By sitting in the alcove, and keeping well\", metadata={'source': '../files/chapter_one.pdf'})]"
      ]
     },
     "execution_count": 23,
     "metadata": {},
     "output_type": "execute_result"
    }
   ],
   "source": [
    "results = vectorstore.similarity_search(\"where does winston live\")\n",
    "\n",
    "results"
   ]
  }
 ],
 "metadata": {
  "kernelspec": {
   "display_name": "env",
   "language": "python",
   "name": "python3"
  },
  "language_info": {
   "codemirror_mode": {
    "name": "ipython",
    "version": 3
   },
   "file_extension": ".py",
   "mimetype": "text/x-python",
   "name": "python",
   "nbconvert_exporter": "python",
   "pygments_lexer": "ipython3",
   "version": "3.11.6"
  }
 },
 "nbformat": 4,
 "nbformat_minor": 2
}
