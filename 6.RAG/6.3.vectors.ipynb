{
 "cells": [
  {
   "cell_type": "code",
   "execution_count": null,
   "metadata": {},
   "outputs": [],
   "source": [
    "            Masculinity | Femininity | Royalty\n",
    "King    |  0.9          | 0.1        | 1.0\n",
    "#Queen   |  0.1          | 0.9        | 1.0            \n",
    "Man     |  0.9          | 0.1        | 0.0\n",
    "\n",
    "Royal   | 0.0           | 0.0        | 1.0\n",
    "Woman   | 0.1           | 0.9        | 0.0 "
   ]
  }
 ],
 "metadata": {
  "language_info": {
   "name": "python"
  }
 },
 "nbformat": 4,
 "nbformat_minor": 2
}
