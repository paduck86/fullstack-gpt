{
 "cells": [
  {
   "cell_type": "code",
   "execution_count": 4,
   "metadata": {},
   "outputs": [
    {
     "name": "stdout",
     "output_type": "stream",
     "text": [
      "\u001b[32;1m\u001b[1;3m[llm/start]\u001b[0m \u001b[1m[1:llm:ChatOpenAI] Entering LLM run with input:\n",
      "\u001b[0m{\n",
      "  \"prompts\": [\n",
      "    \"Human: How do you make Italian pasta?\"\n",
      "  ]\n",
      "}\n",
      "\u001b[36;1m\u001b[1;3m[llm/end]\u001b[0m \u001b[1m[1:llm:ChatOpenAI] [11.36s] Exiting LLM run with output:\n",
      "\u001b[0m{\n",
      "  \"generations\": [\n",
      "    [\n",
      "      {\n",
      "        \"text\": \"To make Italian pasta, follow these steps:\\n\\n1. Boil water: Fill a large pot with water and bring it to a rolling boil. Add salt to the water to enhance the pasta's flavor.\\n\\n2. Add pasta: Once the water is boiling, add the pasta to the pot. Use about 100 grams of pasta per person, or adjust according to your preference.\\n\\n3. Cook pasta: Follow the cooking time mentioned on the pasta package as a general guideline. However, for authentic Italian pasta, it is recommended to cook it al dente, which means it should still have a slight bite to it. Stir occasionally to prevent sticking.\\n\\n4. Prepare sauce: While the pasta is cooking, prepare your desired sauce. Italian pasta can be paired with various sauces like tomato-based sauces, pesto, carbonara, or aglio e olio (garlic and oil). Choose your favorite and cook it separately.\\n\\n5. Drain pasta: Once the pasta is cooked to your desired texture, carefully drain it in a colander. Reserve a small amount of pasta water if you plan to use it to adjust the sauce consistency later.\\n\\n6. Combine pasta and sauce: Return the drained pasta to the pot and add the prepared sauce. Toss the pasta gently to coat it evenly with the sauce. If needed, add a little pasta water to help bind the sauce and pasta together.\\n\\n7. Serve: Transfer the pasta to serving plates or bowls. You can garnish it with grated Parmesan cheese, fresh herbs, or a drizzle of olive oil. Serve immediately and enjoy your homemade Italian pasta!\\n\\nRemember, there are countless variations of Italian pasta dishes, so feel free to experiment with different sauces, ingredients, and toppings to create your own unique flavors.\",\n",
      "        \"generation_info\": {\n",
      "          \"finish_reason\": \"stop\"\n",
      "        },\n",
      "        \"type\": \"ChatGeneration\",\n",
      "        \"message\": {\n",
      "          \"lc\": 1,\n",
      "          \"type\": \"constructor\",\n",
      "          \"id\": [\n",
      "            \"langchain\",\n",
      "            \"schema\",\n",
      "            \"messages\",\n",
      "            \"AIMessage\"\n",
      "          ],\n",
      "          \"kwargs\": {\n",
      "            \"content\": \"To make Italian pasta, follow these steps:\\n\\n1. Boil water: Fill a large pot with water and bring it to a rolling boil. Add salt to the water to enhance the pasta's flavor.\\n\\n2. Add pasta: Once the water is boiling, add the pasta to the pot. Use about 100 grams of pasta per person, or adjust according to your preference.\\n\\n3. Cook pasta: Follow the cooking time mentioned on the pasta package as a general guideline. However, for authentic Italian pasta, it is recommended to cook it al dente, which means it should still have a slight bite to it. Stir occasionally to prevent sticking.\\n\\n4. Prepare sauce: While the pasta is cooking, prepare your desired sauce. Italian pasta can be paired with various sauces like tomato-based sauces, pesto, carbonara, or aglio e olio (garlic and oil). Choose your favorite and cook it separately.\\n\\n5. Drain pasta: Once the pasta is cooked to your desired texture, carefully drain it in a colander. Reserve a small amount of pasta water if you plan to use it to adjust the sauce consistency later.\\n\\n6. Combine pasta and sauce: Return the drained pasta to the pot and add the prepared sauce. Toss the pasta gently to coat it evenly with the sauce. If needed, add a little pasta water to help bind the sauce and pasta together.\\n\\n7. Serve: Transfer the pasta to serving plates or bowls. You can garnish it with grated Parmesan cheese, fresh herbs, or a drizzle of olive oil. Serve immediately and enjoy your homemade Italian pasta!\\n\\nRemember, there are countless variations of Italian pasta dishes, so feel free to experiment with different sauces, ingredients, and toppings to create your own unique flavors.\",\n",
      "            \"additional_kwargs\": {}\n",
      "          }\n",
      "        }\n",
      "      }\n",
      "    ]\n",
      "  ],\n",
      "  \"llm_output\": {\n",
      "    \"token_usage\": {\n",
      "      \"prompt_tokens\": 14,\n",
      "      \"completion_tokens\": 353,\n",
      "      \"total_tokens\": 367\n",
      "    },\n",
      "    \"model_name\": \"gpt-3.5-turbo\",\n",
      "    \"system_fingerprint\": null\n",
      "  },\n",
      "  \"run\": null\n",
      "}\n"
     ]
    },
    {
     "data": {
      "text/plain": [
       "\"To make Italian pasta, follow these steps:\\n\\n1. Boil water: Fill a large pot with water and bring it to a rolling boil. Add salt to the water to enhance the pasta's flavor.\\n\\n2. Add pasta: Once the water is boiling, add the pasta to the pot. Use about 100 grams of pasta per person, or adjust according to your preference.\\n\\n3. Cook pasta: Follow the cooking time mentioned on the pasta package as a general guideline. However, for authentic Italian pasta, it is recommended to cook it al dente, which means it should still have a slight bite to it. Stir occasionally to prevent sticking.\\n\\n4. Prepare sauce: While the pasta is cooking, prepare your desired sauce. Italian pasta can be paired with various sauces like tomato-based sauces, pesto, carbonara, or aglio e olio (garlic and oil). Choose your favorite and cook it separately.\\n\\n5. Drain pasta: Once the pasta is cooked to your desired texture, carefully drain it in a colander. Reserve a small amount of pasta water if you plan to use it to adjust the sauce consistency later.\\n\\n6. Combine pasta and sauce: Return the drained pasta to the pot and add the prepared sauce. Toss the pasta gently to coat it evenly with the sauce. If needed, add a little pasta water to help bind the sauce and pasta together.\\n\\n7. Serve: Transfer the pasta to serving plates or bowls. You can garnish it with grated Parmesan cheese, fresh herbs, or a drizzle of olive oil. Serve immediately and enjoy your homemade Italian pasta!\\n\\nRemember, there are countless variations of Italian pasta dishes, so feel free to experiment with different sauces, ingredients, and toppings to create your own unique flavors.\""
      ]
     },
     "execution_count": 4,
     "metadata": {},
     "output_type": "execute_result"
    }
   ],
   "source": [
    "from langchain.chat_models import ChatOpenAI\n",
    "from langchain.callbacks import StreamingStdOutCallbackHandler\n",
    "from langchain.globals import set_llm_cache, set_debug\n",
    "from langchain.cache import InMemoryCache, SQLiteCache\n",
    "\n",
    "set_llm_cache(SQLiteCache(\"cache.db\"))\n",
    "set_debug(True)\n",
    "\n",
    "chat = ChatOpenAI(\n",
    "    temperature=0.1,\n",
    "    #streaming=True,\n",
    "    #callbacks=[\n",
    "    #   StreamingStdOutCallbackHandler()\n",
    "    #]\n",
    ")\n",
    "\n",
    "chat.predict(\"How do you make Italian pasta?\")"
   ]
  },
  {
   "cell_type": "code",
   "execution_count": null,
   "metadata": {},
   "outputs": [],
   "source": []
  }
 ],
 "metadata": {
  "kernelspec": {
   "display_name": "env",
   "language": "python",
   "name": "python3"
  },
  "language_info": {
   "codemirror_mode": {
    "name": "ipython",
    "version": 3
   },
   "file_extension": ".py",
   "mimetype": "text/x-python",
   "name": "python",
   "nbconvert_exporter": "python",
   "pygments_lexer": "ipython3",
   "version": "3.11.6"
  }
 },
 "nbformat": 4,
 "nbformat_minor": 2
}
